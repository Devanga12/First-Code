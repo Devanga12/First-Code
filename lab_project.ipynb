{
  "nbformat": 4,
  "nbformat_minor": 0,
  "metadata": {
    "colab": {
      "provenance": [],
      "authorship_tag": "ABX9TyNjMuL/VrPPcAeOS0Hcp7lT",
      "include_colab_link": true
    },
    "kernelspec": {
      "name": "python3",
      "display_name": "Python 3"
    },
    "language_info": {
      "name": "python"
    }
  },
  "cells": [
    {
      "cell_type": "markdown",
      "metadata": {
        "id": "view-in-github",
        "colab_type": "text"
      },
      "source": [
        "<a href=\"https://colab.research.google.com/github/Devanga12/First-Code/blob/main/lab_project.ipynb\" target=\"_parent\"><img src=\"https://colab.research.google.com/assets/colab-badge.svg\" alt=\"Open In Colab\"/></a>"
      ]
    },
    {
      "cell_type": "code",
      "source": [
        " def is_valid_email(email_address):\n",
        "    parts = email_address.split(\"@\")\n",
        "\n",
        "    if len(parts) != 2:\n",
        "        return False\n",
        "\n",
        "    local_part = parts[0]\n",
        "    if not local_part:\n",
        "        return False\n",
        "\n",
        "    domain_part = parts[1]\n",
        "    if not domain_part:\n",
        "        return False\n",
        "    domain_parts = domain_part.split(\".\")\n",
        "    if len(domain_parts) < 2:\n",
        "        return False\n",
        "\n",
        "    for domain_part in domain_parts:\n",
        "        if not domain_part or not domain_part.isalnum():\n",
        "            return False\n",
        "\n",
        "    return True\n",
        "email_address = input(\"Enter an email address: \")\n",
        "\n",
        "if is_valid_email(email_address):\n",
        "    print(email_address, \"is a valid email address.\")\n",
        "else:\n",
        "    print(email_address, \"is not a valid email address.\")"
      ],
      "metadata": {
        "colab": {
          "base_uri": "https://localhost:8080/"
        },
        "id": "nutlY4gCXJoZ",
        "outputId": "2dbe2b74-d073-424c-dbde-b7864428a0af"
      },
      "execution_count": null,
      "outputs": [
        {
          "output_type": "stream",
          "name": "stdout",
          "text": [
            "Enter an email address: zwxeaedd\n",
            "zwxeaedd is not a valid email address.\n"
          ]
        }
      ]
    }
  ]
}